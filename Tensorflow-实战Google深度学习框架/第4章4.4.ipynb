{
 "cells": [
  {
   "cell_type": "markdown",
   "metadata": {},
   "source": [
    "### 1.优化\n",
    "加入正则项"
   ]
  },
  {
   "cell_type": "code",
   "execution_count": 1,
   "metadata": {},
   "outputs": [
    {
     "name": "stderr",
     "output_type": "stream",
     "text": [
      "D:\\ProgramData\\Anaconda3\\lib\\site-packages\\h5py\\__init__.py:36: FutureWarning: Conversion of the second argument of issubdtype from `float` to `np.floating` is deprecated. In future, it will be treated as `np.float64 == np.dtype(float).type`.\n",
      "  from ._conv import register_converters as _register_converters\n"
     ]
    }
   ],
   "source": [
    "import tensorflow as tf"
   ]
  },
  {
   "cell_type": "code",
   "execution_count": 4,
   "metadata": {},
   "outputs": [],
   "source": [
    "# 获取一层神经网络边上的权重，并将这个权重的L2正则化损失加入名称为'losses'的集合中\n",
    "def get_weight(shape, lambda1):\n",
    "    #生成一个变量\n",
    "    var = tf.Variable(tf.random_normal(shape),dtype=tf.float32)\n",
    "    #add_to_collection 函数将这个新生成变量的L2正则化损失项加入集合\n",
    "    #这个函数第一个元素是，集合的名字，第二个参数是要加入这个集合的内容\n",
    "    tf.add_to_collection(\n",
    "    'losses',tf.contrib.layers.l2_regularizer(lambda1)(var))\n",
    "    return var\n",
    "    \n"
   ]
  },
  {
   "cell_type": "code",
   "execution_count": 5,
   "metadata": {},
   "outputs": [],
   "source": [
    "x = tf.placeholder(tf.float32,[None,2])\n",
    "y_ = tf.placeholder(tf.float32,[None,1])\n",
    "\n",
    "batch_size = 8\n",
    "# 定义了每一层网络中节点的个数\n",
    "layer_dimension = [2,10,10,10,1]\n",
    "# 神经网络的层数\n",
    "n_layers = len(layer_dimension)\n",
    "\n",
    "# 这个变量维护前向传播时最深的节点，开始的时候是输入层\n",
    "cur_layer = x\n",
    "# 当前节点的个数\n",
    "in_dimension = layer_dimension[0]\n"
   ]
  },
  {
   "cell_type": "code",
   "execution_count": 6,
   "metadata": {},
   "outputs": [],
   "source": [
    "# 通过一个循环生成5层全连接神经网络\n",
    "for i in range(1,n_layers):\n",
    "    # layer_dimension[i]为下一层节点的个数\n",
    "    out_dimension = layer_dimension[i]\n",
    "    # 生成当前层中权重的变量，并将这个变量的L2正则化损失加入计算图上的集合\n",
    "    weight = get_weight([in_dimension,out_dimension],0.001)\n",
    "    bias = tf.Variable(tf.constant([0.1],shape=[out_dimension]))\n",
    "    # 使用ReLU激活函数\n",
    "    cur_layer = tf.nn.relu(tf.matmul(cur_layer,weight)+bias)\n",
    "    # 进入下一层之前将下一层的节点个数更新为当前节点个数\n",
    "    in_dimension = layer_dimension[i]"
   ]
  },
  {
   "cell_type": "code",
   "execution_count": 8,
   "metadata": {},
   "outputs": [],
   "source": [
    "# 在定义神经网络前向传播的同时已经将所有的L2正则损失项加入了图上的集合\n",
    "# 这里只需要计算刻画模型在训练数据上表现的损失函数\n",
    "mse_loss = tf.reduce_mean(tf.square(y_ -cur_layer))\n",
    "# 将均方误差损失函数加入损失集合\n",
    "tf.add_to_collection('losses',mse_loss)"
   ]
  },
  {
   "cell_type": "markdown",
   "metadata": {},
   "source": [
    "### 2. 滑动平均模型"
   ]
  },
  {
   "cell_type": "code",
   "execution_count": 9,
   "metadata": {},
   "outputs": [],
   "source": [
    "import tensorflow as tf\n",
    "\n",
    "# 定义一个变量用于计算滑动平均，这个变量的初始值为0 。注意这里手动指定了变量的类型为tf.float32，因为所有需要计算滑动平均的变量必须是实数型\n",
    "v1 = tf.Variable(0,dtype=tf.float32)\n",
    "# 这里step变量模拟神经网络中迭代的轮数，可以用于动态控制衰减率\n",
    "step = tf.Variable(0,trainable=False)\n",
    "\n",
    "# 定义一个滑动平均的类，初始化时给定了衰减率(0.99)和控制衰减率的变量step\n",
    "ema = tf.train.ExponentialMovingAverage(0.99,step)\n",
    "\n",
    "# 定义一个更新变量滑动平均的操作，这里需要给定一个列表，每次执行这个操作时，这个列表中的变量都会被更新\n",
    "maintain_averages_op = ema.apply([v1])"
   ]
  },
  {
   "cell_type": "code",
   "execution_count": 11,
   "metadata": {},
   "outputs": [
    {
     "name": "stdout",
     "output_type": "stream",
     "text": [
      "[0.0, 0.0]\n",
      "[5.0, 4.5]\n",
      "[10.0, 4.555]\n",
      "[10.0, 4.60945]\n"
     ]
    }
   ],
   "source": [
    "with tf.Session() as sess:\n",
    "    # 初始化所有变量。\n",
    "    init_op = tf.global_variables_initializer()\n",
    "    sess.run(init_op)\n",
    "    \n",
    "    # 通过ema.average(v1)获取滑动平均之后变量的取值。在初始化之后变量v1的值和v1的滑动平均都为0\n",
    "    print(sess.run([v1,ema.average(v1)]))\n",
    "    \n",
    "    # 更新变量v1的值到5\n",
    "    sess.run(tf.assign(v1,5))\n",
    "    # 更新v1的滑动平均值。衰减率为 min{0.99,(1+step)/(10+step)=0.1}=0.1\n",
    "    # 所以v1的滑动平均值会被更新为0.1X0+0.9X5=4.5\n",
    "    sess.run(maintain_averages_op)\n",
    "    print(sess.run([v1,ema.average(v1)]))\n",
    "    \n",
    "    # 更新step的值为10000\n",
    "    sess.run(tf.assign(step,10000))\n",
    "    #更新v1的值为10\n",
    "    sess.run(tf.assign(v1,10))\n",
    "    # 更新v1的滑动平均值。\n",
    "    sess.run(maintain_averages_op)\n",
    "    print(sess.run([v1,ema.average(v1)]))\n",
    "    \n",
    "    # 再次更新滑动平均值\n",
    "    sess.run(maintain_averages_op)\n",
    "    print(sess.run([v1,ema.average(v1)]))"
   ]
  },
  {
   "cell_type": "code",
   "execution_count": null,
   "metadata": {},
   "outputs": [],
   "source": []
  }
 ],
 "metadata": {
  "kernelspec": {
   "display_name": "Python 3",
   "language": "python",
   "name": "python3"
  },
  "language_info": {
   "codemirror_mode": {
    "name": "ipython",
    "version": 3
   },
   "file_extension": ".py",
   "mimetype": "text/x-python",
   "name": "python",
   "nbconvert_exporter": "python",
   "pygments_lexer": "ipython3",
   "version": "3.6.5"
  }
 },
 "nbformat": 4,
 "nbformat_minor": 2
}
