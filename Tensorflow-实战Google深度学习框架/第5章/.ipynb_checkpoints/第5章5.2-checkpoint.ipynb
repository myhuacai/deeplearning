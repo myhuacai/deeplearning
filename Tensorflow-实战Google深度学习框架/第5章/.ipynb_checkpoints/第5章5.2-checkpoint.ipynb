{
 "cells": [
  {
   "cell_type": "markdown",
   "metadata": {},
   "source": [
    "### 1.利用简单的神经网络处理MNIST数据集demo"
   ]
  },
  {
   "cell_type": "code",
   "execution_count": 1,
   "metadata": {
    "collapsed": true
   },
   "outputs": [
    {
     "name": "stderr",
     "output_type": "stream",
     "text": [
      "D:\\ProgramData\\Anaconda3\\lib\\site-packages\\h5py\\__init__.py:36: FutureWarning: Conversion of the second argument of issubdtype from `float` to `np.floating` is deprecated. In future, it will be treated as `np.float64 == np.dtype(float).type`.\n",
      "  from ._conv import register_converters as _register_converters\n"
     ]
    },
    {
     "name": "stdout",
     "output_type": "stream",
     "text": [
      "WARNING:tensorflow:From <ipython-input-1-1e52e39bf7dc>:3: read_data_sets (from tensorflow.contrib.learn.python.learn.datasets.mnist) is deprecated and will be removed in a future version.\n",
      "Instructions for updating:\n",
      "Please use alternatives such as official/mnist/dataset.py from tensorflow/models.\n",
      "WARNING:tensorflow:From D:\\ProgramData\\Anaconda3\\lib\\site-packages\\tensorflow\\contrib\\learn\\python\\learn\\datasets\\mnist.py:260: maybe_download (from tensorflow.contrib.learn.python.learn.datasets.base) is deprecated and will be removed in a future version.\n",
      "Instructions for updating:\n",
      "Please write your own downloading logic.\n",
      "WARNING:tensorflow:From D:\\ProgramData\\Anaconda3\\lib\\site-packages\\tensorflow\\contrib\\learn\\python\\learn\\datasets\\mnist.py:262: extract_images (from tensorflow.contrib.learn.python.learn.datasets.mnist) is deprecated and will be removed in a future version.\n",
      "Instructions for updating:\n",
      "Please use tf.data to implement this functionality.\n",
      "Extracting MNIST_data\\train-images-idx3-ubyte.gz\n",
      "WARNING:tensorflow:From D:\\ProgramData\\Anaconda3\\lib\\site-packages\\tensorflow\\contrib\\learn\\python\\learn\\datasets\\mnist.py:267: extract_labels (from tensorflow.contrib.learn.python.learn.datasets.mnist) is deprecated and will be removed in a future version.\n",
      "Instructions for updating:\n",
      "Please use tf.data to implement this functionality.\n",
      "Extracting MNIST_data\\train-labels-idx1-ubyte.gz\n",
      "WARNING:tensorflow:From D:\\ProgramData\\Anaconda3\\lib\\site-packages\\tensorflow\\contrib\\learn\\python\\learn\\datasets\\mnist.py:110: dense_to_one_hot (from tensorflow.contrib.learn.python.learn.datasets.mnist) is deprecated and will be removed in a future version.\n",
      "Instructions for updating:\n",
      "Please use tf.one_hot on tensors.\n",
      "Extracting MNIST_data\\t10k-images-idx3-ubyte.gz\n",
      "Extracting MNIST_data\\t10k-labels-idx1-ubyte.gz\n",
      "WARNING:tensorflow:From D:\\ProgramData\\Anaconda3\\lib\\site-packages\\tensorflow\\contrib\\learn\\python\\learn\\datasets\\mnist.py:290: DataSet.__init__ (from tensorflow.contrib.learn.python.learn.datasets.mnist) is deprecated and will be removed in a future version.\n",
      "Instructions for updating:\n",
      "Please use alternatives such as official/mnist/dataset.py from tensorflow/models.\n"
     ]
    }
   ],
   "source": [
    "import tensorflow as tf\n",
    "from tensorflow.examples.tutorials.mnist import input_data\n",
    "# 使用数据集mnist，在当前MNIST_data目录下搜索，如果没有则从官网下载（建议提前下载好）\n",
    "mnist = input_data.read_data_sets(\"MNIST_data\",one_hot=True)"
   ]
  },
  {
   "cell_type": "code",
   "execution_count": 2,
   "metadata": {},
   "outputs": [],
   "source": [
    "# 超参数\n",
    "INPUT_NODE = 784 # 输入层的节点数，对于mnist数据集，这个就等于图片的像素\n",
    "OUTPUT_NODE = 10# 输出层的节点数，这个等于类别的数目。因为在MNIST数据集中，需要区分的是0~9这10个数字，所以这里的节点数为10\n",
    "\n",
    "LAYER_NODE = 500 #隐藏层节点数。这里使用只有一个隐藏层的网络结构作为样例，这个隐藏层有500个节点\n",
    "BATCH_SIZE = 100#一个训练batch中训练的数据的个数，数字越小时，训练过程越接近随机梯度下降，数字越大时，训练越接近梯度下降\n",
    "\n",
    "LEARNING_RATE_BASE = 0.8 # 基础的学习率\n",
    "LEARNIG_RATE_DECAY = 0.99 # 学习率的衰减率\n",
    "\n",
    "REGULARIZATION_RATE = 0.0001 # 正则化项在损失函数中的系数，描述模型复杂度\n",
    "TRAINING_STEPS = 30000 # 训练轮数\n",
    "MOVING_AVERAGE_DECAY =0.99 # 滑动平均衰减率\n",
    "\n",
    "# 一个辅助函数，给定神经网络的输入和所有参数，计算神经网络的前向传播结果。\n",
    "# 在这里定义一个使用ReLU激活函数的三层全连接神经网络。通过加入隐藏层实现多层网络的结构。\n",
    "# 通过ReLU激活函数实现了去线性化。在这个函数中也支持传入用于计算参数平均值的类\n",
    "# 这样方便在测试时使用滑动平均模型\n",
    "def inference(input_tensor,avg_class,weights1,bias1,weights2,bias2):\n",
    "    if avg_class == None:\n",
    "        # 计算隐藏层的前向传播结果，这里使用ReLU激活函数\n",
    "        layer1 = tf.nn.relu(tf.matmul(input_tensor,weights1) + bias1)\n",
    "        # 计算输出层的前向传播结果。因为在计算损失函数时会一并计算Softmax函数，所以这里不需要加入激活函数\n",
    "        # 而且不加人softmax不会影响预测结果。因为预测时使用的是不同类别对应节点输出值的相当大小，有没有softmax层对最后分类结果的计算没有影响\n",
    "        #。于是在计算整个神经网络的前向传播时可以不加入最后的softmax层\n",
    "        return tf.matmul(layer1,weights2) + bias2\n",
    "    else:\n",
    "        # 首先使用avg_class.average函数计算得出变量的滑动平均值\n",
    "        # 然后计算响应的神经网络前向传播结果\n",
    "        layer1 = tf.nn.relu(tf.matmul(input_tensor,avg_class.average(weights1))+avg_class.average(bias1))\n",
    "        return tf.matmul(layer1,avg_class.average(weights2)) + avg_class.average(bias2)\n",
    "    \n",
    "    "
   ]
  },
  {
   "cell_type": "code",
   "execution_count": 12,
   "metadata": {},
   "outputs": [],
   "source": [
    "# 训练模型的过程\n",
    "def train(mnist):\n",
    "    # placeholder\n",
    "    x = tf.placeholder(tf.float32,[None,INPUT_NODE],name='x-input')\n",
    "    y_ = tf.placeholder(tf.float32,[None,OUTPUT_NODE],name='y-input')\n",
    "    # 生成隐藏层的参数\n",
    "    weights1 = tf.Variable(tf.truncated_normal([INPUT_NODE,LAYER_NODE],stddev=0.1))\n",
    "    bias1 = tf.Variable(tf.constant(0.1,shape=[LAYER_NODE]))\n",
    "    #生成输出层的参数\n",
    "    weights2 = tf.Variable(tf.truncated_normal([LAYER_NODE,OUTPUT_NODE],stddev=0.1))\n",
    "    bias2 = tf.Variable(tf.constant(0.1,shape=[OUTPUT_NODE]))\n",
    "    # 计算再当前参数下神经网络前向传播的结果。这里给出的用于计算滑动平均的类为None，所以函数不会使用参数的滑动平均值\n",
    "    y = inference(x,None,weights1,bias1,weights2,bias2)\n",
    "    \n",
    "    #定义存储训练轮数的变量。这个变量不需要计算滑动平均值，所以这里指定这个变量为不可训练的变量（trainable=False）\n",
    "    # 在使用TensorFlow训练神经网络时，一般会将代表训练轮数的变量指定为不可训练的参数\n",
    "    global_step = tf.Variable(0,trainable=False)\n",
    "    \n",
    "    # 给定滑动平均衰减率和训练轮数的变量。初始化为平均类。给定训练轮数的变量可以加快训练早期变量的更新速度\n",
    "    variable_averages = tf.train.ExponentialMovingAverage(MOVING_AVERAGE_DECAY,global_step)\n",
    "    \n",
    "    #在所有代表神经网络参数的变量上使用滑动平均。其他辅助变量（比如global_step）就不需要了.\n",
    "    #tf.trainable_varibles返回的就是图上集合GraphKeys.TRAINABKE_VARIABLES中的元素。\n",
    "    #这个集合中的元素是所有没有指定trainable=False的参数\n",
    "    variable_averages_op = variable_averages.apply(tf.trainable_variables())\n",
    "    \n",
    "    #计算使用了滑动平均之后的前向传播结果。滑动平均不会改变变量本身的取值，而是会维护一个影子变量来记录滑动平均值。\n",
    "    #所以当需要使用这个滑动平均值时，需要明确的调用average函数\n",
    "    average_y = inference(x,variable_averages,weights1,bias1,weights2,bias2)\n",
    "    \n",
    "    # 计算交叉熵作为刻画预测值和真实值之间差距的损失函数。这里使用了TensorFlow中提供的sparse_softmax_cross_entropy_with_logits，\n",
    "    #函数来计算交叉熵。当分类问题只有一个正确答案时，可以使用这个函数加速交叉熵的计算。\n",
    "    #MNIST问题的图片中只包含了0~9中的一个数字，所以可以使用这个函数来计算交叉熵损失。\n",
    "    #这个函数的第一个参数是神经网络不包括softmax层的前向传播结果，第二个是正确答案。因为标准答案是一个长度为10的一维数组，而该函数需要提供\n",
    "    # 的是一个正确答案的数字。所以需要使用tf.argmax函数来得到正确答案对应的类别编号\n",
    "    cross_entropy = tf.reduce_mean(tf.nn.sparse_softmax_cross_entropy_with_logits(logits=y,labels=tf.argmax(y_,1)))\n",
    "    \n",
    "    # 计算L2正则化损失函数\n",
    "    regularizer = tf.contrib.layers.l2_regularizer(REGULARIZATION_RATE)\n",
    "    # 计算模型的正则化损失。一般只计算神经网络边上权重的正则化损失，而不使用偏置项\n",
    "    regularization = regularizer(weights1)+regularizer(weights2)\n",
    "    # 总损失等于交叉熵损失和正则化损失之和\n",
    "    loss = cross_entropy + regularization\n",
    "    \n",
    "    # 设置指数衰减的学习率\n",
    "    learning_rate = tf.train.exponential_decay(LEARNING_RATE_BASE,#基础学习率，更新变量使用的学习率在这个基础上递减\n",
    "                                               global_step,# 当前迭代的轮次\n",
    "                                               mnist.train.num_examples/BATCH_SIZE,#过完所有的训练数据需要的迭代次数\n",
    "                                              LEARNIG_RATE_DECAY)#学习率衰减速度\n",
    "    # 优化损失项\n",
    "    train_step = tf.train.GradientDescentOptimizer(learning_rate).minimize(loss,global_step=global_step)\n",
    "    #在训练神经网络模型时，每过一遍数据既要通过反向传播来更新神经网络的参数，又要更新每一个参数的滑动平均值，为了一次完成多个操作，\n",
    "    # TensorFlow提供了tf.control_dependecies和tf.group两种机制。\n",
    "    #下面两行程序和train_op =tf.group(train_step,variable_averagers_op)是等价的\n",
    "    with tf.control_dependencies([train_step,variable_averages_op]):\n",
    "        train_op = tf.no_op(name='train')\n",
    "    # 计算准确率\n",
    "    correct_prediction = tf.equal(tf.arg_max(average_y,1),tf.arg_max(y_,1))\n",
    "    accuracy = tf.reduce_mean(tf.cast(correct_prediction,tf.float32))\n",
    "    \n",
    "    # 训练过程\n",
    "    with tf.Session() as sess:\n",
    "        tf.global_variables_initializer().run()\n",
    "        # 准备验证数据，一般在神经网络的训练过程中会通过验证数据来大致判断停止的条件和评判的效果\n",
    "        validate_feed = {x:mnist.validation.images,y_:mnist.validation.labels}\n",
    "        # 测试数据。真实应用中，这部分数据在训练时不可见，这个数据作为模型优劣的最后评价标准\n",
    "        test_feed = {x:mnist.test.images,y_:mnist.test.labels}\n",
    "        \n",
    "        for i in range(TRAINING_STEPS):\n",
    "            if i % 1000 ==0:\n",
    "                validate_acc = sess.run(accuracy,feed_dict = validate_feed)\n",
    "                test_acc = sess.run(accuracy,feed_dict=test_feed)\n",
    "                print(\"After %d training steps ,validation accuracy using average model is %g，test accuracy using average model is %g\" \n",
    "                      %(i,validate_acc,test_acc))\n",
    "                \n",
    "            xs ,ys = mnist.train.next_batch(BATCH_SIZE)\n",
    "            sess.run(train_op,feed_dict={x:xs,y_:ys})\n",
    "        test_acc = sess.run(accuracy,feed_dict=test_feed)\n",
    "        print(\"------\")\n",
    "        print(\"After %d training steps ,test accuracy using average model is %g\" %(TRAINING_STEPS,test_acc))"
   ]
  },
  {
   "cell_type": "code",
   "execution_count": 13,
   "metadata": {},
   "outputs": [
    {
     "name": "stdout",
     "output_type": "stream",
     "text": [
      "Extracting MNIST_data\\train-images-idx3-ubyte.gz\n",
      "Extracting MNIST_data\\train-labels-idx1-ubyte.gz\n",
      "Extracting MNIST_data\\t10k-images-idx3-ubyte.gz\n",
      "Extracting MNIST_data\\t10k-labels-idx1-ubyte.gz\n",
      "After 0 training steps ,validation accuracy using average model is 0.1316，test accuracy using average model is 0.1271\n",
      "After 1000 training steps ,validation accuracy using average model is 0.976，test accuracy using average model is 0.9754\n",
      "After 2000 training steps ,validation accuracy using average model is 0.9812，test accuracy using average model is 0.9804\n",
      "After 3000 training steps ,validation accuracy using average model is 0.9834，test accuracy using average model is 0.9819\n",
      "After 4000 training steps ,validation accuracy using average model is 0.9834，test accuracy using average model is 0.9834\n",
      "After 5000 training steps ,validation accuracy using average model is 0.9854，test accuracy using average model is 0.9833\n",
      "After 6000 training steps ,validation accuracy using average model is 0.984，test accuracy using average model is 0.984\n",
      "After 7000 training steps ,validation accuracy using average model is 0.9848，test accuracy using average model is 0.984\n",
      "After 8000 training steps ,validation accuracy using average model is 0.985，test accuracy using average model is 0.984\n",
      "After 9000 training steps ,validation accuracy using average model is 0.9856，test accuracy using average model is 0.9838\n",
      "After 10000 training steps ,validation accuracy using average model is 0.9856，test accuracy using average model is 0.9836\n",
      "After 11000 training steps ,validation accuracy using average model is 0.9852，test accuracy using average model is 0.9839\n",
      "After 12000 training steps ,validation accuracy using average model is 0.9856，test accuracy using average model is 0.9845\n",
      "After 13000 training steps ,validation accuracy using average model is 0.9848，test accuracy using average model is 0.9838\n",
      "After 14000 training steps ,validation accuracy using average model is 0.986，test accuracy using average model is 0.9837\n",
      "After 15000 training steps ,validation accuracy using average model is 0.985，test accuracy using average model is 0.9842\n",
      "After 16000 training steps ,validation accuracy using average model is 0.9854，test accuracy using average model is 0.9845\n",
      "After 17000 training steps ,validation accuracy using average model is 0.9858，test accuracy using average model is 0.9841\n",
      "After 18000 training steps ,validation accuracy using average model is 0.9854，test accuracy using average model is 0.9843\n",
      "After 19000 training steps ,validation accuracy using average model is 0.9854，test accuracy using average model is 0.9838\n",
      "After 20000 training steps ,validation accuracy using average model is 0.9862，test accuracy using average model is 0.9838\n",
      "After 21000 training steps ,validation accuracy using average model is 0.986，test accuracy using average model is 0.9844\n",
      "After 22000 training steps ,validation accuracy using average model is 0.9858，test accuracy using average model is 0.9845\n",
      "After 23000 training steps ,validation accuracy using average model is 0.9852，test accuracy using average model is 0.9842\n",
      "After 24000 training steps ,validation accuracy using average model is 0.9862，test accuracy using average model is 0.9841\n",
      "After 25000 training steps ,validation accuracy using average model is 0.9862，test accuracy using average model is 0.9841\n",
      "After 26000 training steps ,validation accuracy using average model is 0.9852，test accuracy using average model is 0.9841\n",
      "After 27000 training steps ,validation accuracy using average model is 0.9856，test accuracy using average model is 0.9846\n",
      "After 28000 training steps ,validation accuracy using average model is 0.9856，test accuracy using average model is 0.9841\n",
      "After 29000 training steps ,validation accuracy using average model is 0.9862，test accuracy using average model is 0.9848\n",
      "------\n",
      "After 30000 training steps ,test accuracy using average model is 0.9845\n"
     ]
    },
    {
     "ename": "SystemExit",
     "evalue": "",
     "output_type": "error",
     "traceback": [
      "An exception has occurred, use %tb to see the full traceback.\n",
      "\u001b[1;31mSystemExit\u001b[0m\n"
     ]
    },
    {
     "name": "stderr",
     "output_type": "stream",
     "text": [
      "D:\\ProgramData\\Anaconda3\\lib\\site-packages\\IPython\\core\\interactiveshell.py:2971: UserWarning: To exit: use 'exit', 'quit', or Ctrl-D.\n",
      "  warn(\"To exit: use 'exit', 'quit', or Ctrl-D.\", stacklevel=1)\n"
     ]
    }
   ],
   "source": [
    "# 主程序入口\n",
    "def main(argv=None):\n",
    "    mnist = input_data.read_data_sets(\"MNIST_data\",one_hot=True)\n",
    "    train(mnist)\n",
    "if __name__ ==\"__main__\":\n",
    "    tf.app.run()"
   ]
  },
  {
   "cell_type": "code",
   "execution_count": null,
   "metadata": {},
   "outputs": [],
   "source": []
  }
 ],
 "metadata": {
  "kernelspec": {
   "display_name": "Python 3",
   "language": "python",
   "name": "python3"
  },
  "language_info": {
   "codemirror_mode": {
    "name": "ipython",
    "version": 3
   },
   "file_extension": ".py",
   "mimetype": "text/x-python",
   "name": "python",
   "nbconvert_exporter": "python",
   "pygments_lexer": "ipython3",
   "version": "3.6.5"
  }
 },
 "nbformat": 4,
 "nbformat_minor": 2
}
