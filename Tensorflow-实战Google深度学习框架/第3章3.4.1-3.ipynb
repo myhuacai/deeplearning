{
 "cells": [
  {
   "cell_type": "code",
   "execution_count": 1,
   "metadata": {},
   "outputs": [
    {
     "name": "stderr",
     "output_type": "stream",
     "text": [
      "D:\\ProgramData\\Anaconda3\\lib\\site-packages\\h5py\\__init__.py:36: FutureWarning: Conversion of the second argument of issubdtype from `float` to `np.floating` is deprecated. In future, it will be treated as `np.float64 == np.dtype(float).type`.\n",
      "  from ._conv import register_converters as _register_converters\n"
     ]
    }
   ],
   "source": [
    "import tensorflow as tf"
   ]
  },
  {
   "cell_type": "code",
   "execution_count": 5,
   "metadata": {},
   "outputs": [],
   "source": [
    "# 声明w1 w2两个变量，这里还通过seed参数设置了随机种子\n",
    "w1 = tf.Variable(tf.random_normal((2,3),stddev=1,seed=1))\n",
    "w2 = tf.Variable(tf.random_normal((3,1),stddev=1,seed=1))\n",
    "# 将输入的特征向量定义为一个常量。这里x是个1x2的矩阵\n",
    "x = tf.constant([[0.7,0.9]])\n",
    "# 前向传播 获取神经网络的输出\n",
    "a = tf.matmul(x,w1)\n",
    "y = tf.matmul(a,w2)"
   ]
  },
  {
   "cell_type": "code",
   "execution_count": 6,
   "metadata": {},
   "outputs": [
    {
     "name": "stdout",
     "output_type": "stream",
     "text": [
      "[[3.957578]]\n"
     ]
    }
   ],
   "source": [
    "sess = tf.Session()\n",
    "# 这里不能直接通过sess.run(y)来获取y值，因为w1，w2还没有运行初始化，需要先初始化参数\n",
    "sess.run(w1.initializer)\n",
    "sess.run(w2.initializer)\n",
    "print(sess.run(y))\n",
    "sess.close()"
   ]
  },
  {
   "cell_type": "code",
   "execution_count": 8,
   "metadata": {},
   "outputs": [
    {
     "name": "stdout",
     "output_type": "stream",
     "text": [
      "[[3.957578]]\n"
     ]
    }
   ],
   "source": [
    "# 可以通过下面方法初始化参数\n",
    "init = tf.global_variables_initializer()\n",
    "sess1 = tf.Session()\n",
    "sess1.run(init)\n",
    "print(sess1.run(y))"
   ]
  },
  {
   "cell_type": "code",
   "execution_count": 16,
   "metadata": {},
   "outputs": [
    {
     "data": {
      "text/plain": [
       "\"\\n类型错误\\nTypeError: Input 'value' of 'Assign' Op has type float64 \\nthat does not match type float32 of argument 'ref'.\\n\\n\""
      ]
     },
     "execution_count": 16,
     "metadata": {},
     "output_type": "execute_result"
    }
   ],
   "source": [
    "# 类似张量，维度(shape)和类型(type)也是变量最重要的两个属性\n",
    "# 变量类型是不可以改变的\n",
    "# 类型在程序运行中是有可能改变的，需要通过设置参数 validate=False \n",
    "w3 = tf.Variable(tf.random_normal((2,3),stddev=1,seed=2),name='w3')\n",
    "w4 = tf.Variable(tf.random_normal((3,1),stddev=1,dtype=tf.float64,seed=2),name='w4')\n",
    "# w3.assign(w4)\n",
    "'''\n",
    "类型错误\n",
    "TypeError: Input 'value' of 'Assign' Op has type float64 \n",
    "that does not match type float32 of argument 'ref'.\n",
    "'''\n"
   ]
  },
  {
   "cell_type": "code",
   "execution_count": 20,
   "metadata": {},
   "outputs": [
    {
     "data": {
      "text/plain": [
       "<tf.Tensor 'Assign_4:0' shape=(2, 2) dtype=float32_ref>"
      ]
     },
     "execution_count": 20,
     "metadata": {},
     "output_type": "execute_result"
    }
   ],
   "source": [
    "w1 = tf.Variable(tf.random_normal((2,3),stddev=1,seed=1),name='w1')\n",
    "w2 = tf.Variable(tf.random_normal((2,2),stddev=1,seed=1),name='w2')\n",
    "# w1.assign(w2)\n",
    "# tf.assign(w1,w2)\n",
    "'''\n",
    "维度不一致导致报错\n",
    "ValueError: Dimension 1 in both shapes must be equal, but are 3 and \n",
    "2. Shapes are [2,3] and [2,2]. for 'Assign_2' (op: 'Assign') \n",
    "with input shapes: [2,3], [2,2].\n",
    "'''\n",
    "tf.assign(w1,w2,validate_shape = False)"
   ]
  },
  {
   "cell_type": "code",
   "execution_count": null,
   "metadata": {},
   "outputs": [],
   "source": []
  }
 ],
 "metadata": {
  "kernelspec": {
   "display_name": "Python 3",
   "language": "python",
   "name": "python3"
  },
  "language_info": {
   "codemirror_mode": {
    "name": "ipython",
    "version": 3
   },
   "file_extension": ".py",
   "mimetype": "text/x-python",
   "name": "python",
   "nbconvert_exporter": "python",
   "pygments_lexer": "ipython3",
   "version": "3.6.5"
  }
 },
 "nbformat": 4,
 "nbformat_minor": 2
}
